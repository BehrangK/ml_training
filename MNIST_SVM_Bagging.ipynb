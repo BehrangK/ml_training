{
 "cells": [
  {
   "cell_type": "markdown",
   "metadata": {},
   "source": [
    "#### Import libraries "
   ]
  },
  {
   "cell_type": "code",
   "execution_count": 1,
   "metadata": {},
   "outputs": [
    {
     "name": "stderr",
     "output_type": "stream",
     "text": [
      "C:\\Users\\Maryam\\Miniconda3\\lib\\importlib\\_bootstrap.py:219: RuntimeWarning: numpy.ufunc size changed, may indicate binary incompatibility. Expected 192 from C header, got 216 from PyObject\n",
      "  return f(*args, **kwds)\n",
      "C:\\Users\\Maryam\\Miniconda3\\lib\\importlib\\_bootstrap.py:219: RuntimeWarning: numpy.ufunc size changed, may indicate binary incompatibility. Expected 192 from C header, got 216 from PyObject\n",
      "  return f(*args, **kwds)\n"
     ]
    }
   ],
   "source": [
    "import matplotlib.pyplot as plt\n",
    "import numpy as np\n",
    "import cv2 \n",
    "import os\n",
    "from tqdm import tqdm\n",
    "\n",
    "import sklearn.linear_model as lm\n",
    "from sklearn.model_selection import cross_val_score\n",
    "from sklearn.decomposition import PCA\n",
    "from sklearn.svm import SVC\n",
    "from sklearn.metrics import accuracy_score\n",
    "from sklearn.metrics import confusion_matrix\n",
    "from sklearn.ensemble import BaggingClassifier\n",
    "\n",
    "import seaborn as sns"
   ]
  },
  {
   "cell_type": "markdown",
   "metadata": {},
   "source": [
    "#### Read first 900 pix of digits from 0 to 10 as train data, do the same thing for next 100 pix to form the test set  "
   ]
  },
  {
   "cell_type": "code",
   "execution_count": 3,
   "metadata": {},
   "outputs": [
    {
     "name": "stderr",
     "output_type": "stream",
     "text": [
      "100%|██████████████████████████████████████████████████████████████████████████████████| 10/10 [00:06<00:00,  1.58it/s]\n",
      "100%|██████████████████████████████████████████████████████████████████████████████████| 10/10 [00:00<00:00, 13.61it/s]\n"
     ]
    }
   ],
   "source": [
    "X_train = []\n",
    "y_train = []\n",
    "for d in tqdm(range(0,10)):\n",
    "    path = 'C:/Users/Maryam/Documents/PythonMaryam/MNIST/trainingSet/trainingSet/' + str(d) + \"/\"\n",
    "    files = os.listdir(path)\n",
    "    for file in files[0:900]:\n",
    "        img = cv2.imread(path + file, 0)/255\n",
    "        img_flat = img.flatten()\n",
    "        X_train.append(img_flat)\n",
    "        y_train.append(d)\n",
    "        \n",
    "X_train = np.array(X_train)\n",
    "y_train = np.array(y_train)\n",
    "\n",
    "X_test = []\n",
    "y_test = []\n",
    "for d in tqdm(range(0,10)):\n",
    "    path = 'C:/Users/Maryam/Documents/PythonMaryam/MNIST/trainingSet/trainingSet/' + str(d) + \"/\"\n",
    "    files = os.listdir(path)\n",
    "    for file in files[900:1000]:\n",
    "        img = cv2.imread(path + file, 0)/255\n",
    "        img_flat = img.flatten()\n",
    "        X_test.append(img_flat)\n",
    "        y_test.append(d)\n",
    "        \n",
    "X_test = np.array(X_test)\n",
    "y_test = np.array(y_test)"
   ]
  },
  {
   "cell_type": "markdown",
   "metadata": {},
   "source": [
    "#### Classifying data using Logistic Regression "
   ]
  },
  {
   "cell_type": "code",
   "execution_count": 4,
   "metadata": {},
   "outputs": [
    {
     "name": "stdout",
     "output_type": "stream",
     "text": [
      "accuracy score of the logistic regression on train data is:  0.9714444444444444\n",
      "accuracy score of the logistic regression on test data is:  0.897\n"
     ]
    }
   ],
   "source": [
    "clf = lm.LogisticRegression(max_iter=10000)\n",
    "clf.fit(X_train, y_train)\n",
    "\n",
    "pred_tr = clf.predict(X_train)\n",
    "acc_tr = accuracy_score(y_train, pred_tr)\n",
    "print('accuracy score of the logistic regression on train data is: ', acc_tr)\n",
    "\n",
    "pred_ts = clf.predict(X_test)\n",
    "acc_ts = accuracy_score(y_test, pred_ts)\n",
    "print('accuracy score of the logistic regression on test data is: ', acc_ts)"
   ]
  },
  {
   "cell_type": "markdown",
   "metadata": {},
   "source": [
    "#### Classifying data using Support Vector Machine "
   ]
  },
  {
   "cell_type": "code",
   "execution_count": 7,
   "metadata": {},
   "outputs": [
    {
     "name": "stdout",
     "output_type": "stream",
     "text": [
      "accuracy score using SVM classifier on test data is:  0.914\n"
     ]
    }
   ],
   "source": [
    "svc = SVC(kernel='linear', C = 1)\n",
    "svc.fit(X_train, y_train)\n",
    "\n",
    "pred2 = svc.predict(X_test)\n",
    "acc2 = accuracy_score(y_test, pred2)\n",
    "print('accuracy score using SVM classifier on test data is: ', acc2)"
   ]
  },
  {
   "cell_type": "markdown",
   "metadata": {},
   "source": [
    "#### Cross validation of SVC "
   ]
  },
  {
   "cell_type": "code",
   "execution_count": 8,
   "metadata": {},
   "outputs": [
    {
     "name": "stdout",
     "output_type": "stream",
     "text": [
      "Cross validation score for SVC classifier on test data is:  [0.88248582 0.8571278  0.90152771 0.89489243 0.8602727 ]\n"
     ]
    }
   ],
   "source": [
    "scores = cross_val_score(svc, X_test, y_test, cv=5, scoring='f1_macro')\n",
    "print('Cross validation score for SVC classifier on test data is: ', scores)"
   ]
  },
  {
   "cell_type": "markdown",
   "metadata": {},
   "source": [
    "#### ??? Why cross validation scores are lower than the accuracy score (both run on test data) ??? "
   ]
  },
  {
   "cell_type": "markdown",
   "metadata": {},
   "source": [
    "#### Using BaggingClassifier as a classifier  "
   ]
  },
  {
   "cell_type": "code",
   "execution_count": 9,
   "metadata": {},
   "outputs": [
    {
     "name": "stdout",
     "output_type": "stream",
     "text": [
      "accuracy score using Bagging Regressor on test data is:  0.88\n"
     ]
    }
   ],
   "source": [
    "bgr = BaggingClassifier(n_estimators=10, max_samples=0.9, max_features=0.9)\n",
    "bgr.fit(X_train, y_train)\n",
    "\n",
    "pred3 = bgr.predict(X_test)\n",
    "acc3 = accuracy_score(y_test, pred3)\n",
    "print('accuracy score using Bagging Classifier on test data is: ', acc3)"
   ]
  },
  {
   "cell_type": "markdown",
   "metadata": {},
   "source": [
    "#### Using BaggingClassifier as a classifier and svn as a base estimator "
   ]
  },
  {
   "cell_type": "code",
   "execution_count": 10,
   "metadata": {},
   "outputs": [
    {
     "name": "stdout",
     "output_type": "stream",
     "text": [
      "accuracy score using Bagging and SVM classifier:  0.923\n"
     ]
    }
   ],
   "source": [
    "bgr_svc = BaggingClassifier(svc, n_estimators=10, max_samples=0.9, max_features=0.9)\n",
    "bgr_svc.fit(X_train, y_train)\n",
    "pred4 = bgr_svc.predict(X_test)\n",
    "\n",
    "acc4 = accuracy_score(y_test, pred4)\n",
    "print('accuracy score using Bagging and SVM classifier: ', acc4)"
   ]
  }
 ],
 "metadata": {
  "kernelspec": {
   "display_name": "Python 3",
   "language": "python",
   "name": "python3"
  },
  "language_info": {
   "codemirror_mode": {
    "name": "ipython",
    "version": 3
   },
   "file_extension": ".py",
   "mimetype": "text/x-python",
   "name": "python",
   "nbconvert_exporter": "python",
   "pygments_lexer": "ipython3",
   "version": "3.7.7"
  }
 },
 "nbformat": 4,
 "nbformat_minor": 4
}
