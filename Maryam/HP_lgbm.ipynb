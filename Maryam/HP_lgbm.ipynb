{
 "cells": [
  {
   "cell_type": "markdown",
   "metadata": {},
   "source": [
    "#### Import required libraries "
   ]
  },
  {
   "cell_type": "code",
   "execution_count": 1,
   "metadata": {},
   "outputs": [],
   "source": [
    "import numpy as np\n",
    "import pandas as pd\n",
    "import matplotlib.pyplot as plt\n",
    "\n",
    "from sklearn.model_selection import cross_val_score\n",
    "from sklearn.model_selection import GridSearchCV\n",
    "from sklearn.model_selection import train_test_split\n",
    "from sklearn.metrics import mean_squared_error as mse\n",
    "from sklearn.metrics import r2_score\n",
    "\n",
    "import lightgbm as lgbm"
   ]
  },
  {
   "cell_type": "markdown",
   "metadata": {},
   "source": [
    "#### import train data"
   ]
  },
  {
   "cell_type": "code",
   "execution_count": 46,
   "metadata": {},
   "outputs": [],
   "source": [
    "df_train = pd.read_csv(\"../Data/House Price Prediction/train.csv\")\n",
    "df_train['date'] = pd.to_datetime(df_train['date'])\n",
    "df_train['year'] = df_train['date'].dt.year\n",
    "df_train['month'] = df_train['date'].dt.month"
   ]
  },
  {
   "cell_type": "markdown",
   "metadata": {},
   "source": [
    "#### Extract feature and target matrices "
   ]
  },
  {
   "cell_type": "code",
   "execution_count": 47,
   "metadata": {},
   "outputs": [],
   "source": [
    "X_train = df_train.drop(['price','id','date'], axis=1)\n",
    "#y_train = np.log(df_train['price'])\n",
    "y_train = df_train['price']"
   ]
  },
  {
   "cell_type": "markdown",
   "metadata": {},
   "source": [
    "#### LightGBM Regressor "
   ]
  },
  {
   "cell_type": "code",
   "execution_count": 26,
   "metadata": {},
   "outputs": [],
   "source": [
    "reg = lgbm.LGBMRegressor(\n",
    "    objective='regression',\n",
    "    boosting_type='gbdt', \n",
    "    learning_rate=0.1, \n",
    "    num_leaves=31,\n",
    "    n_estimators=25, \n",
    "    min_split_gain=0.1, \n",
    "    subsample=0.6, \n",
    "    colsample_bytree=0.8, \n",
    "    reg_alpha=5,\n",
    "    reg_lambda=5\n",
    "    )"
   ]
  },
  {
   "cell_type": "code",
   "execution_count": 27,
   "metadata": {},
   "outputs": [
    {
     "name": "stdout",
     "output_type": "stream",
     "text": [
      "MSE is: 136049.5456302112\n",
      "R2 is: 0.869787269831558\n"
     ]
    },
    {
     "data": {
      "image/png": "[encoded data removed]",
      "text/plain": [
       "<Figure size 432x288 with 1 Axes>"
      ]
     },
     "metadata": {
      "needs_background": "light"
     },
     "output_type": "display_data"
    }
   ],
   "source": [
    "reg.fit(X_train, y_train)\n",
    "pred_train = reg.predict(X_train)\n",
    "pred_train[pred_train>df_train['price'].max()]=df_train['price'].max()\n",
    "pred_train[pred_train<df_train['price'].min()]=df_train['price'].min()\n",
    "\n",
    "print('MSE is:',np.sqrt(mse(y_train,pred_train)))\n",
    "print('R2 is:',r2_score(y_train,pred_train))\n",
    "\n",
    "plt.scatter(y_train, pred_train, s=1)\n",
    "plt.show()"
   ]
  },
  {
   "cell_type": "code",
   "execution_count": 34,
   "metadata": {},
   "outputs": [
    {
     "name": "stdout",
     "output_type": "stream",
     "text": [
      "[0.82312697 0.81221336 0.82770454 0.81789721 0.82568274]\n",
      "cv_mean: 0.82\n",
      "cv_std: 0.01\n"
     ]
    }
   ],
   "source": [
    "scores=cross_val_score(reg, X=X_train, y=y_train, cv=5,scoring='r2')\n",
    "print(scores)\n",
    "print('cv_mean:', round(scores.mean(), 2))\n",
    "print('cv_std:', round(scores.std(), 2))"
   ]
  },
  {
   "cell_type": "markdown",
   "metadata": {},
   "source": [
    "#### Define the parameters for Grid seach and then conduct the grid search "
   ]
  },
  {
   "cell_type": "code",
   "execution_count": 36,
   "metadata": {},
   "outputs": [],
   "source": [
    "gridparam={\n",
    "    'num_leaves':[30,50],\n",
    "    'boosting_type':['gbdt','dart'],\n",
    "    'learning_rate':[0.1,0.01],\n",
    "    'n_estimators':[25,50,75],\n",
    "    'subsample':[0.5,0.7,0.9],\n",
    "    'colsample_bytree':[0.8,0.9],\n",
    "    'reg_alpha':[0,5,10],\n",
    "    'reg_lambda':[0,5,10] \n",
    "    }"
   ]
  },
  {
   "cell_type": "code",
   "execution_count": 37,
   "metadata": {},
   "outputs": [
    {
     "name": "stdout",
     "output_type": "stream",
     "text": [
      "Fitting 4 folds for each of 1296 candidates, totalling 5184 fits\n"
     ]
    },
    {
     "name": "stderr",
     "output_type": "stream",
     "text": [
      "[Parallel(n_jobs=1)]: Using backend SequentialBackend with 1 concurrent workers.\n",
      "[Parallel(n_jobs=1)]: Done 5184 out of 5184 | elapsed: 10.7min finished\n"
     ]
    },
    {
     "data": {
      "text/plain": [
       "GridSearchCV(cv=4, error_score=nan,\n",
       "             estimator=LGBMRegressor(boosting_type='gbdt', class_weight=None,\n",
       "                                     colsample_bytree=0.8,\n",
       "                                     importance_type='split', learning_rate=0.1,\n",
       "                                     max_depth=-1, min_child_samples=20,\n",
       "                                     min_child_weight=0.001, min_split_gain=0.1,\n",
       "                                     n_estimators=25, n_jobs=-1, num_leaves=31,\n",
       "                                     objective='regression', random_state=None,\n",
       "                                     reg_alpha=5, reg_lambda=5, silent=T...\n",
       "                                     subsample=0.6, subsample_for_bin=200000,\n",
       "                                     subsample_freq=0),\n",
       "             iid='deprecated', n_jobs=None,\n",
       "             param_grid={'boosting_type': ['gbdt', 'dart'],\n",
       "                         'colsample_bytree': [0.8, 0.9],\n",
       "                         'learning_rate': [0.1, 0.01],\n",
       "                         'n_estimators': [25, 50, 75], 'num_leaves': [30, 50],\n",
       "                         'reg_alpha': [0, 5, 10], 'reg_lambda': [0, 5, 10],\n",
       "                         'subsample': [0.5, 0.7, 0.9]},\n",
       "             pre_dispatch='2*n_jobs', refit=True, return_train_score=False,\n",
       "             scoring=None, verbose=1)"
      ]
     },
     "execution_count": 37,
     "metadata": {},
     "output_type": "execute_result"
    }
   ],
   "source": [
    "grid = GridSearchCV(reg, gridparam, cv=4, verbose=1)\n",
    "grid.fit(X_train,y_train)"
   ]
  },
  {
   "cell_type": "code",
   "execution_count": 38,
   "metadata": {},
   "outputs": [
    {
     "name": "stdout",
     "output_type": "stream",
     "text": [
      "0.8710920736366728\n",
      "{'boosting_type': 'gbdt', 'colsample_bytree': 0.8, 'learning_rate': 0.1, 'n_estimators': 75, 'num_leaves': 50, 'reg_alpha': 0, 'reg_lambda': 10, 'subsample': 0.5}\n"
     ]
    }
   ],
   "source": [
    "print(grid.best_score_)\n",
    "print(grid.best_params_)"
   ]
  },
  {
   "cell_type": "markdown",
   "metadata": {},
   "source": [
    "#### Rewrite the LGBM regressor based on the best parameters found by the grid search "
   ]
  },
  {
   "cell_type": "code",
   "execution_count": 39,
   "metadata": {},
   "outputs": [],
   "source": [
    "reg2=lgbm.LGBMRegressor(\n",
    "    objective='regression',\n",
    "    boosting_type=grid.best_params_['boosting_type'],\n",
    "    learning_rate=grid.best_params_['learning_rate'],\n",
    "    num_leaves=grid.best_params_['num_leaves'],\n",
    "    n_estimators=grid.best_params_['n_estimators'],\n",
    "    min_split_gain=0.1,\n",
    "    subsample=grid.best_params_['subsample'],\n",
    "    colsample_bytree=grid.best_params_['colsample_bytree'],\n",
    "    reg_alpha=grid.best_params_['reg_alpha'],\n",
    "    reg_lambda=grid.best_params_['reg_lambda'],\n",
    "    )"
   ]
  },
  {
   "cell_type": "code",
   "execution_count": 40,
   "metadata": {},
   "outputs": [
    {
     "name": "stdout",
     "output_type": "stream",
     "text": [
      "MSE is: 93248.43292479575\n",
      "R2 is: 0.9388294567302643\n"
     ]
    },
    {
     "data": {
      "text/plain": [
       "<matplotlib.collections.PathCollection at 0x15e13bc5a08>"
      ]
     },
     "execution_count": 40,
     "metadata": {},
     "output_type": "execute_result"
    },
    {
     "data": {
      "image/png": "[encoded data removed]",
      "text/plain": [
       "<Figure size 432x288 with 1 Axes>"
      ]
     },
     "metadata": {
      "needs_background": "light"
     },
     "output_type": "display_data"
    }
   ],
   "source": [
    "reg2.fit(X_train, y_train)\n",
    "pred_train2 = reg2.predict(X_train)\n",
    "\n",
    "pred_train2[pred_train2>df_train['price'].max()]=df_train['price'].max()\n",
    "pred_train2[pred_train2<df_train['price'].min()]=df_train['price'].min()\n",
    "\n",
    "print('MSE is:',np.sqrt(mse(y_train,pred_train2)))\n",
    "print('R2 is:',r2_score(y_train,pred_train2))\n",
    "\n",
    "plt.scatter(y_train, pred_train2, s=1)"
   ]
  },
  {
   "cell_type": "code",
   "execution_count": 41,
   "metadata": {},
   "outputs": [
    {
     "name": "stdout",
     "output_type": "stream",
     "text": [
      "[0.87478198 0.84660126 0.86157945 0.8702947  0.87390731]\n",
      "cv_mean: 0.87\n",
      "cv_std: 0.01\n"
     ]
    }
   ],
   "source": [
    "scores2=cross_val_score(reg2, X=X_train, y=y_train, cv=5,scoring='r2')\n",
    "print(scores2)\n",
    "print('cv_mean:', round(scores2.mean(), 2))\n",
    "print('cv_std:', round(scores2.std(), 2))"
   ]
  },
  {
   "cell_type": "markdown",
   "metadata": {},
   "source": [
    "#### What is the purpose of lgbm.train functions?"
   ]
  },
  {
   "cell_type": "code",
   "execution_count": 43,
   "metadata": {},
   "outputs": [],
   "source": [
    "params = {\n",
    "    'application': 'regression', \n",
    "    'boosting': 'gbdt', # traditional gradient boosting decision tree\n",
    "    'num_iterations': 1000, \n",
    "    'learning_rate': 0.05,\n",
    "    'num_leaves': 62,\n",
    "    'device': 'cpu', # you can use GPU to achieve faster learning\n",
    "    'max_depth': -1, # <0 means no limit\n",
    "    'max_bin': 510, # Small number of bins may reduce training accuracy but can deal with over-fitting\n",
    "    'lambda_l1': 5, # L1 regularization\n",
    "    'lambda_l2': 10, # L2 regularization\n",
    "    'metric' : 'rmse',\n",
    "    'subsample_for_bin': 200, # number of samples for constructing bins\n",
    "    'subsample': 0.8, # subsample ratio of the training instance\n",
    "    'colsample_bytree': 0.8, # subsample ratio of columns when constructing the tree\n",
    "    'min_split_gain': 0.5, # minimum loss reduction required to make further partition on a leaf node of the tree\n",
    "    'min_child_weight': 1, # minimum sum of instance weight (hessian) needed in a leaf\n",
    "    'min_child_samples': 5# minimum number of data needed in a leaf\n",
    "}"
   ]
  },
  {
   "cell_type": "code",
   "execution_count": 45,
   "metadata": {},
   "outputs": [
    {
     "name": "stdout",
     "output_type": "stream",
     "text": [
      "Training until validation scores don't improve for 50 rounds\n",
      "[4]\tvalid_0's rmse: 346672\n",
      "[8]\tvalid_0's rmse: 313050\n",
      "[12]\tvalid_0's rmse: 282188\n",
      "[16]\tvalid_0's rmse: 257632\n",
      "[20]\tvalid_0's rmse: 236999\n",
      "[24]\tvalid_0's rmse: 219379\n",
      "[28]\tvalid_0's rmse: 206385\n",
      "[32]\tvalid_0's rmse: 193862\n",
      "[36]\tvalid_0's rmse: 182967\n",
      "[40]\tvalid_0's rmse: 172922\n",
      "[44]\tvalid_0's rmse: 164961\n",
      "[48]\tvalid_0's rmse: 158613\n",
      "[52]\tvalid_0's rmse: 153292\n",
      "[56]\tvalid_0's rmse: 149275\n",
      "[60]\tvalid_0's rmse: 146132\n",
      "[64]\tvalid_0's rmse: 142885\n",
      "[68]\tvalid_0's rmse: 140183\n",
      "[72]\tvalid_0's rmse: 137852\n",
      "[76]\tvalid_0's rmse: 136306\n",
      "[80]\tvalid_0's rmse: 134495\n",
      "[84]\tvalid_0's rmse: 133182\n",
      "[88]\tvalid_0's rmse: 131564\n",
      "[92]\tvalid_0's rmse: 130155\n",
      "[96]\tvalid_0's rmse: 129004\n",
      "[100]\tvalid_0's rmse: 128401\n",
      "[104]\tvalid_0's rmse: 127632\n",
      "[108]\tvalid_0's rmse: 127117\n",
      "[112]\tvalid_0's rmse: 126671\n",
      "[116]\tvalid_0's rmse: 126000\n",
      "[120]\tvalid_0's rmse: 125733\n",
      "[124]\tvalid_0's rmse: 125274\n",
      "[128]\tvalid_0's rmse: 124984\n",
      "[132]\tvalid_0's rmse: 124711\n",
      "[136]\tvalid_0's rmse: 124529\n",
      "[140]\tvalid_0's rmse: 124342\n",
      "[144]\tvalid_0's rmse: 124109\n",
      "[148]\tvalid_0's rmse: 123774\n",
      "[152]\tvalid_0's rmse: 123713\n",
      "[156]\tvalid_0's rmse: 123573\n",
      "[160]\tvalid_0's rmse: 123475\n",
      "[164]\tvalid_0's rmse: 123239\n",
      "[168]\tvalid_0's rmse: 123056\n",
      "[172]\tvalid_0's rmse: 122906\n",
      "[176]\tvalid_0's rmse: 122577\n",
      "[180]\tvalid_0's rmse: 122411\n",
      "[184]\tvalid_0's rmse: 122281\n",
      "[188]\tvalid_0's rmse: 122203\n",
      "[192]\tvalid_0's rmse: 122239\n",
      "[196]\tvalid_0's rmse: 122066\n",
      "[200]\tvalid_0's rmse: 121979\n",
      "[204]\tvalid_0's rmse: 121957\n",
      "[208]\tvalid_0's rmse: 121883\n",
      "[212]\tvalid_0's rmse: 121963\n",
      "[216]\tvalid_0's rmse: 121878\n",
      "[220]\tvalid_0's rmse: 121803\n",
      "[224]\tvalid_0's rmse: 121751\n",
      "[228]\tvalid_0's rmse: 121730\n",
      "[232]\tvalid_0's rmse: 121690\n",
      "[236]\tvalid_0's rmse: 121616\n",
      "[240]\tvalid_0's rmse: 121623\n",
      "[244]\tvalid_0's rmse: 121570\n",
      "[248]\tvalid_0's rmse: 121572\n",
      "[252]\tvalid_0's rmse: 121588\n",
      "[256]\tvalid_0's rmse: 121469\n",
      "[260]\tvalid_0's rmse: 121458\n",
      "[264]\tvalid_0's rmse: 121367\n",
      "[268]\tvalid_0's rmse: 121275\n",
      "[272]\tvalid_0's rmse: 121246\n",
      "[276]\tvalid_0's rmse: 121194\n",
      "[280]\tvalid_0's rmse: 121225\n",
      "[284]\tvalid_0's rmse: 121166\n",
      "[288]\tvalid_0's rmse: 121152\n",
      "[292]\tvalid_0's rmse: 121081\n",
      "[296]\tvalid_0's rmse: 121053\n",
      "[300]\tvalid_0's rmse: 121024\n",
      "[304]\tvalid_0's rmse: 120984\n",
      "[308]\tvalid_0's rmse: 120996\n",
      "[312]\tvalid_0's rmse: 120982\n",
      "[316]\tvalid_0's rmse: 120964\n",
      "[320]\tvalid_0's rmse: 120952\n",
      "[324]\tvalid_0's rmse: 120920\n",
      "[328]\tvalid_0's rmse: 120879\n",
      "[332]\tvalid_0's rmse: 120829\n",
      "[336]\tvalid_0's rmse: 120750\n",
      "[340]\tvalid_0's rmse: 120709\n",
      "[344]\tvalid_0's rmse: 120671\n",
      "[348]\tvalid_0's rmse: 120637\n",
      "[352]\tvalid_0's rmse: 120635\n",
      "[356]\tvalid_0's rmse: 120584\n",
      "[360]\tvalid_0's rmse: 120596\n",
      "[364]\tvalid_0's rmse: 120590\n",
      "[368]\tvalid_0's rmse: 120610\n",
      "[372]\tvalid_0's rmse: 120611\n",
      "[376]\tvalid_0's rmse: 120620\n",
      "[380]\tvalid_0's rmse: 120627\n",
      "[384]\tvalid_0's rmse: 120637\n",
      "[388]\tvalid_0's rmse: 120646\n",
      "[392]\tvalid_0's rmse: 120584\n",
      "[396]\tvalid_0's rmse: 120560\n",
      "[400]\tvalid_0's rmse: 120577\n",
      "[404]\tvalid_0's rmse: 120564\n",
      "[408]\tvalid_0's rmse: 120518\n",
      "[412]\tvalid_0's rmse: 120510\n",
      "[416]\tvalid_0's rmse: 120506\n",
      "[420]\tvalid_0's rmse: 120505\n",
      "[424]\tvalid_0's rmse: 120508\n",
      "[428]\tvalid_0's rmse: 120508\n",
      "[432]\tvalid_0's rmse: 120541\n",
      "[436]\tvalid_0's rmse: 120533\n",
      "[440]\tvalid_0's rmse: 120517\n",
      "[444]\tvalid_0's rmse: 120499\n",
      "[448]\tvalid_0's rmse: 120470\n",
      "[452]\tvalid_0's rmse: 120479\n",
      "[456]\tvalid_0's rmse: 120474\n",
      "[460]\tvalid_0's rmse: 120470\n",
      "[464]\tvalid_0's rmse: 120464\n",
      "[468]\tvalid_0's rmse: 120499\n",
      "[472]\tvalid_0's rmse: 120501\n",
      "[476]\tvalid_0's rmse: 120507\n",
      "[480]\tvalid_0's rmse: 120488\n",
      "[484]\tvalid_0's rmse: 120467\n",
      "[488]\tvalid_0's rmse: 120448\n",
      "[492]\tvalid_0's rmse: 120414\n",
      "[496]\tvalid_0's rmse: 120394\n",
      "[500]\tvalid_0's rmse: 120411\n",
      "[504]\tvalid_0's rmse: 120420\n",
      "[508]\tvalid_0's rmse: 120423\n",
      "[512]\tvalid_0's rmse: 120445\n",
      "[516]\tvalid_0's rmse: 120426\n",
      "[520]\tvalid_0's rmse: 120416\n",
      "[524]\tvalid_0's rmse: 120424\n",
      "[528]\tvalid_0's rmse: 120428\n",
      "[532]\tvalid_0's rmse: 120434\n",
      "[536]\tvalid_0's rmse: 120448\n",
      "[540]\tvalid_0's rmse: 120468\n",
      "[544]\tvalid_0's rmse: 120468\n",
      "Early stopping, best iteration is:\n",
      "[496]\tvalid_0's rmse: 120394\n"
     ]
    }
   ],
   "source": [
    "X_tm, X_vl, y_tm, y_vl = train_test_split(X_train, y_train, test_size=0.2)\n",
    "d_tm = lgbm.Dataset(X_tm, label=y_tm)\n",
    "d_vl = lgbm.Dataset(X_vl, label=y_vl)\n",
    "model=lgbm.train(params, train_set=d_tm, num_boost_round=1000, valid_sets=d_vl, early_stopping_rounds=50, verbose_eval=4)"
   ]
  },
  {
   "cell_type": "markdown",
   "metadata": {},
   "source": [
    "#### Predict the house price for test data "
   ]
  },
  {
   "cell_type": "code",
   "execution_count": 50,
   "metadata": {},
   "outputs": [],
   "source": [
    "df_test = pd.read_csv(\"../Data/House Price Prediction/test.csv\")\n",
    "df_test['date'] = pd.to_datetime(df_test['date'])\n",
    "df_test['year'] = df_test['date'].dt.year\n",
    "df_test['month'] = df_test['date'].dt.month\n",
    "\n",
    "X_test = df_test.drop(['id', 'date'], axis=1)\n",
    "\n",
    "pred_test = reg2.predict(X_test)\n",
    "df_test['price'] = pred_test\n",
    "\n",
    "df_test.to_csv('test_HP_lgbm.csv')"
   ]
  }
 ],
 "metadata": {
  "kernelspec": {
   "display_name": "Python 3",
   "language": "python",
   "name": "python3"
  },
  "language_info": {
   "codemirror_mode": {
    "name": "ipython",
    "version": 3
   },
   "file_extension": ".py",
   "mimetype": "text/x-python",
   "name": "python",
   "nbconvert_exporter": "python",
   "pygments_lexer": "ipython3",
   "version": "3.7.7"
  }
 },
 "nbformat": 4,
 "nbformat_minor": 4
}
