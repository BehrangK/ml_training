{
 "cells": [
  {
   "cell_type": "markdown",
   "metadata": {},
   "source": [
    "#### import libraries "
   ]
  },
  {
   "cell_type": "code",
   "execution_count": 1,
   "metadata": {},
   "outputs": [
    {
     "name": "stderr",
     "output_type": "stream",
     "text": [
      "C:\\Users\\Maryam\\Miniconda3\\lib\\importlib\\_bootstrap.py:219: RuntimeWarning: numpy.ufunc size changed, may indicate binary incompatibility. Expected 192 from C header, got 216 from PyObject\n",
      "  return f(*args, **kwds)\n"
     ]
    }
   ],
   "source": [
    "import numpy as np\n",
    "import pandas as pd\n",
    "import matplotlib.pyplot as plt\n",
    "\n",
    "import sklearn.linear_model as lm\n",
    "from sklearn.metrics import mean_squared_error as mse\n",
    "from sklearn.metrics import r2_score\n",
    "from sklearn.metrics import accuracy_score\n",
    "from sklearn.preprocessing import PolynomialFeatures\n",
    "from sklearn.preprocessing import StandardScaler\n",
    "from sklearn.decomposition import PCA"
   ]
  },
  {
   "cell_type": "markdown",
   "metadata": {},
   "source": [
    "#### read and edit train data"
   ]
  },
  {
   "cell_type": "code",
   "execution_count": 6,
   "metadata": {},
   "outputs": [
    {
     "name": "stdout",
     "output_type": "stream",
     "text": [
      "           id       date     price  bedrooms  bathrooms  sqft_living  \\\n",
      "0  7129300520 2014-10-13  221900.0         3       1.00         1180   \n",
      "1  6414100192 2014-12-09  538000.0         3       2.25         2570   \n",
      "2  5631500400 2015-02-25  180000.0         2       1.00          770   \n",
      "3  2487200875 2014-12-09  604000.0         4       3.00         1960   \n",
      "4  1954400510 2015-02-18  510000.0         3       2.00         1680   \n",
      "\n",
      "   sqft_lot  floors  waterfront  view  ...  sqft_basement  yr_built  \\\n",
      "0      5650     1.0           0     0  ...              0      1955   \n",
      "1      7242     2.0           0     0  ...            400      1951   \n",
      "2     10000     1.0           0     0  ...              0      1933   \n",
      "3      5000     1.0           0     0  ...            910      1965   \n",
      "4      8080     1.0           0     0  ...              0      1987   \n",
      "\n",
      "   yr_renovated  zipcode      lat     long  sqft_living15  sqft_lot15  year  \\\n",
      "0             0    98178  47.5112 -122.257           1340        5650  2014   \n",
      "1          1991    98125  47.7210 -122.319           1690        7639  2014   \n",
      "2             0    98028  47.7379 -122.233           2720        8062  2015   \n",
      "3             0    98136  47.5208 -122.393           1360        5000  2014   \n",
      "4             0    98074  47.6168 -122.045           1800        7503  2015   \n",
      "\n",
      "   month  \n",
      "0     10  \n",
      "1     12  \n",
      "2      2  \n",
      "3     12  \n",
      "4      2  \n",
      "\n",
      "[5 rows x 23 columns]\n"
     ]
    }
   ],
   "source": [
    "df_train = pd.read_csv(\"../Data/House Price Prediction/train.csv\")\n",
    "df_train[\"date\"] = pd.to_datetime(df_train[\"date\"])\n",
    "df_train[\"year\"] = df_train[\"date\"].dt.year\n",
    "df_train[\"month\"] = df_train[\"date\"].dt.month\n",
    "print(df_train.head())"
   ]
  },
  {
   "cell_type": "markdown",
   "metadata": {},
   "source": [
    "#### set features and targets matrices for the train data"
   ]
  },
  {
   "cell_type": "code",
   "execution_count": 7,
   "metadata": {},
   "outputs": [],
   "source": [
    "X_train = df_train.drop(['id', 'date', 'price', 'zipcode'],axis=1)\n",
    "y_train = df_train[\"price\"]"
   ]
  },
  {
   "cell_type": "markdown",
   "metadata": {},
   "source": [
    "#### Linear Regression of train data "
   ]
  },
  {
   "cell_type": "code",
   "execution_count": 9,
   "metadata": {},
   "outputs": [
    {
     "name": "stdout",
     "output_type": "stream",
     "text": [
      "Raw Data RMSE is: 208926.31\n",
      "Raw Data R2 is: 0.69\n"
     ]
    }
   ],
   "source": [
    "reg1 = lm.LinearRegression()\n",
    "reg1.fit(X_train, y_train)\n",
    "Pred1 = reg1.predict(X_train)\n",
    "print('Raw Data RMSE is:',round(np.sqrt(mse(y_train,Pred1)),2))\n",
    "print('Raw Data R2 is:',round(r2_score(y_train,Pred1),2))"
   ]
  },
  {
   "cell_type": "code",
   "execution_count": 10,
   "metadata": {},
   "outputs": [
    {
     "data": {
      "image/png": "[encoded data removed]",
      "text/plain": [
       "<Figure size 432x288 with 1 Axes>"
      ]
     },
     "metadata": {
      "needs_background": "light"
     },
     "output_type": "display_data"
    }
   ],
   "source": [
    "plt.plot(y_train, Pred1, '.')\n",
    "plt.scatter(y_train, Pred1)\n",
    "plt.title('Linear Regression of Raw Values')\n",
    "plt.show()"
   ]
  },
  {
   "cell_type": "markdown",
   "metadata": {},
   "source": [
    "#### Scaling with Standard Scaler "
   ]
  },
  {
   "cell_type": "code",
   "execution_count": 11,
   "metadata": {},
   "outputs": [],
   "source": [
    "scaleit = StandardScaler()\n",
    "X_train1 = scaleit.fit_transform(X_train)\n",
    "X_train1 = pd.DataFrame(X_train1, columns=X_train.columns)"
   ]
  },
  {
   "cell_type": "markdown",
   "metadata": {},
   "source": [
    "#### 2nd Order Polynomial"
   ]
  },
  {
   "cell_type": "code",
   "execution_count": 12,
   "metadata": {},
   "outputs": [],
   "source": [
    "poly = PolynomialFeatures(2)\n",
    "X_train2 = poly.fit_transform(X_train1)\n",
    "ploynames = poly.get_feature_names(X_train1.columns)\n",
    "X_train2 = pd.DataFrame(X_train2, columns=ploynames)"
   ]
  },
  {
   "cell_type": "markdown",
   "metadata": {},
   "source": [
    "#### Linear Regression of 2nd Order Polynomial of Scaled Date"
   ]
  },
  {
   "cell_type": "code",
   "execution_count": 13,
   "metadata": {},
   "outputs": [
    {
     "name": "stdout",
     "output_type": "stream",
     "text": [
      "2nd Order PN of SD RMSE is: 152303.79\n",
      "2nd Order PN of SD R2 is: 0.84\n"
     ]
    }
   ],
   "source": [
    "reg2=lm.LinearRegression()\n",
    "reg2.fit(X_train2,y_train)\n",
    "Pred2=reg2.predict(X_train2)\n",
    "print('2nd Order PN of SD RMSE is:',round(np.sqrt(mse(y_train,Pred2)),2))\n",
    "print('2nd Order PN of SD R2 is:',round(r2_score(y_train,Pred2),2))"
   ]
  },
  {
   "cell_type": "code",
   "execution_count": 14,
   "metadata": {},
   "outputs": [
    {
     "data": {
      "image/png": "[encoded data removed]",
      "text/plain": [
       "<Figure size 432x288 with 1 Axes>"
      ]
     },
     "metadata": {
      "needs_background": "light"
     },
     "output_type": "display_data"
    }
   ],
   "source": [
    "plt.plot(y_train,Pred2,'.')\n",
    "plt.scatter(y_train,Pred2)\n",
    "plt.title('Linear Regression of 2nd Order Polynomial of Scaled Data')\n",
    "plt.show()"
   ]
  },
  {
   "cell_type": "markdown",
   "metadata": {},
   "source": [
    "#### Dimension Reduction to n_components using PCA"
   ]
  },
  {
   "cell_type": "code",
   "execution_count": 22,
   "metadata": {},
   "outputs": [
    {
     "name": "stdout",
     "output_type": "stream",
     "text": [
      "PCA with  50  components RMSE is: 189063.42\n",
      "PCA with  50  components R2 is: 0.75\n"
     ]
    },
    {
     "data": {
      "image/png": "[encoded data removed]",
      "text/plain": [
       "<Figure size 432x288 with 1 Axes>"
      ]
     },
     "metadata": {
      "needs_background": "light"
     },
     "output_type": "display_data"
    }
   ],
   "source": [
    "ncomp1=50\n",
    "mypca1=PCA(n_components=ncomp1)\n",
    "X_pca1=mypca1.fit_transform(X_train2)\n",
    "\n",
    "reg3=lm.LinearRegression()\n",
    "reg3.fit(X_pca1,y_train)\n",
    "Pred3=reg3.predict(X_pca1)\n",
    "print('PCA with ',  ncomp1, ' components RMSE is:',round(np.sqrt(mse(y_train,Pred3)),2))\n",
    "print('PCA with ',  ncomp1, ' components R2 is:',round(r2_score(y_train,Pred3),2))\n",
    "\n",
    "plt.plot(mypca1.explained_variance_ratio_)\n",
    "plt.title('Variance Ratio of PCA with ' + str(ncomp1) + ' components')\n",
    "plt.show()"
   ]
  },
  {
   "cell_type": "code",
   "execution_count": 23,
   "metadata": {},
   "outputs": [
    {
     "name": "stdout",
     "output_type": "stream",
     "text": [
      "PCA with  8  components RMSE is: 262784.06\n",
      "PCA with  8  components R2 is: 0.51\n"
     ]
    },
    {
     "data": {
      "image/png": "[encoded data removed]",
      "text/plain": [
       "<Figure size 432x288 with 1 Axes>"
      ]
     },
     "metadata": {
      "needs_background": "light"
     },
     "output_type": "display_data"
    }
   ],
   "source": [
    "ncomp2=8\n",
    "mypca2=PCA(n_components=ncomp2)\n",
    "X_pca2=mypca2.fit_transform(X_train2)\n",
    "\n",
    "reg4=lm.LinearRegression()\n",
    "reg4.fit(X_pca2,y_train)\n",
    "Pred4=reg4.predict(X_pca2)\n",
    "print('PCA with ',  ncomp2, ' components RMSE is:',round(np.sqrt(mse(y_train,Pred4)),2))\n",
    "print('PCA with ',  ncomp2, ' components R2 is:',round(r2_score(y_train,Pred4),2))\n",
    "\n",
    "plt.plot(mypca2.explained_variance_ratio_)\n",
    "plt.title('Variance Ratio of PCA with ' + str(ncomp2) + ' components')\n",
    "plt.show()"
   ]
  },
  {
   "cell_type": "code",
   "execution_count": 27,
   "metadata": {},
   "outputs": [
    {
     "name": "stdout",
     "output_type": "stream",
     "text": [
      "PCA with  2  components RMSE is: 346489.34\n",
      "PCA with  2  components R2 is: 0.16\n"
     ]
    },
    {
     "data": {
      "image/png": "[encoded data removed]",
      "text/plain": [
       "<Figure size 432x288 with 1 Axes>"
      ]
     },
     "metadata": {
      "needs_background": "light"
     },
     "output_type": "display_data"
    },
    {
     "data": {
      "image/png": "[encoded data removed]",
      "text/plain": [
       "<Figure size 432x288 with 1 Axes>"
      ]
     },
     "metadata": {
      "needs_background": "light"
     },
     "output_type": "display_data"
    }
   ],
   "source": [
    "ncomp3=2\n",
    "mypca3=PCA(n_components=ncomp3)\n",
    "X_pca3=mypca3.fit_transform(X_train2)\n",
    "\n",
    "reg5=lm.LinearRegression()\n",
    "reg5.fit(X_pca3,y_train)\n",
    "Pred5=reg5.predict(X_pca3)\n",
    "print('PCA with ',  ncomp3, ' components RMSE is:',round(np.sqrt(mse(y_train,Pred5)),2))\n",
    "print('PCA with ',  ncomp3, ' components R2 is:',round(r2_score(y_train,Pred5),2))\n",
    "\n",
    "plt.plot(mypca3.explained_variance_ratio_)\n",
    "plt.title('Variance Ratio of PCA with ' + str(ncomp3) + ' components')\n",
    "plt.show()\n",
    "\n",
    "plt.plot(np.cumsum(mypca3.explained_variance_ratio_))\n",
    "plt.title('Cumulative Sum of PCA with ' + str(ncomp3) + ' components')\n",
    "plt.show()"
   ]
  },
  {
   "cell_type": "markdown",
   "metadata": {},
   "source": [
    "#### read test data"
   ]
  },
  {
   "cell_type": "code",
   "execution_count": 28,
   "metadata": {},
   "outputs": [],
   "source": [
    "df_test = pd.read_csv(\"../Data/House Price Prediction/test.csv\")\n",
    "df_test[\"date\"] = pd.to_datetime(df_test[\"date\"])\n",
    "df_test[\"year\"] = df_test[\"date\"].dt.year\n",
    "df_test[\"month\"] = df_test[\"date\"].dt.month"
   ]
  },
  {
   "cell_type": "code",
   "execution_count": 29,
   "metadata": {},
   "outputs": [],
   "source": [
    "X_test = df_test.drop(['id', 'date', 'zipcode'],axis=1)"
   ]
  },
  {
   "cell_type": "code",
   "execution_count": 30,
   "metadata": {},
   "outputs": [],
   "source": [
    "# Standard Scaler\n",
    "scaleix=StandardScaler()\n",
    "X_test1=scaleix.fit_transform(X_test)\n",
    "X_test1=pd.DataFrame(X_test1,columns=X_test.columns)"
   ]
  },
  {
   "cell_type": "code",
   "execution_count": 31,
   "metadata": {},
   "outputs": [],
   "source": [
    "# 2nd Order Polynomial Transformation\n",
    "poly2 = PolynomialFeatures(2)\n",
    "X_test2 = poly2.fit_transform(X_test1)\n",
    "polynames2 = poly2.get_feature_names(X_test1.columns)\n",
    "X_test2 = pd.DataFrame(X_test2, columns=polynames2)"
   ]
  },
  {
   "cell_type": "markdown",
   "metadata": {},
   "source": [
    "#### Transform the Test data with PCA with 8 components"
   ]
  },
  {
   "cell_type": "code",
   "execution_count": 34,
   "metadata": {},
   "outputs": [],
   "source": [
    "X_test_PCA=mypca2.transform(X_test2)"
   ]
  },
  {
   "cell_type": "markdown",
   "metadata": {},
   "source": [
    "#### Linear Regression of 2nd Order Polynomial of Scaled Date with PCA Dimension Reduction on Test Data"
   ]
  },
  {
   "cell_type": "code",
   "execution_count": 36,
   "metadata": {},
   "outputs": [
    {
     "name": "stdout",
     "output_type": "stream",
     "text": [
      "pred4 is:  [574155.37091338 485376.85712979 434017.46532756 ... 556967.68056864\n",
      " 413837.341119   557534.67769553]\n",
      "           id       date  bedrooms  bathrooms  sqft_living  sqft_lot  floors  \\\n",
      "0  7818900060 2014-07-08         4       2.50         1910     10300     1.0   \n",
      "1  2126059139 2015-03-18         5       3.25         3160     10587     1.0   \n",
      "2  1759701600 2014-05-12         3       1.50         2020     11358     1.0   \n",
      "3  1795920310 2014-08-04         4       3.75         3210      7054     2.0   \n",
      "4  1626069139 2014-08-21         3       2.25         2350     51400     1.0   \n",
      "\n",
      "   waterfront  view  condition  ...  yr_built  yr_renovated  zipcode      lat  \\\n",
      "0           0     0          3  ...      1921          1968    98177  47.7581   \n",
      "1           0     0          5  ...      1960             0    98034  47.7238   \n",
      "2           0     0          4  ...      1956             0    98033  47.6641   \n",
      "3           0     0          4  ...      1985             0    98052  47.7268   \n",
      "4           0     0          3  ...      1977             0    98077  47.7417   \n",
      "\n",
      "      long  sqft_living15  sqft_lot15  year  month          price  \n",
      "0 -122.359           1910        7750  2014      7  574155.370913  \n",
      "1 -122.165           2200        7761  2015      3  485376.857130  \n",
      "2 -122.185           2370        9520  2014      5  434017.465328  \n",
      "3 -122.103           2350        8020  2014      8  544636.973166  \n",
      "4 -122.053           2350       51400  2014      8  412969.949041  \n",
      "\n",
      "[5 rows x 23 columns]\n"
     ]
    }
   ],
   "source": [
    "pred4 = reg4.predict(X_test_PCA)\n",
    "df_test['price'] = pred4\n",
    "print('pred4 is: ', pred4)\n",
    "print(df_test.head(5))"
   ]
  },
  {
   "cell_type": "markdown",
   "metadata": {},
   "source": [
    "#### write outputs into a csv file"
   ]
  },
  {
   "cell_type": "code",
   "execution_count": 37,
   "metadata": {},
   "outputs": [],
   "source": [
    "df_test.to_csv('test_priced_PCA.csv')"
   ]
  }
 ],
 "metadata": {
  "kernelspec": {
   "display_name": "Python 3",
   "language": "python",
   "name": "python3"
  },
  "language_info": {
   "codemirror_mode": {
    "name": "ipython",
    "version": 3
   },
   "file_extension": ".py",
   "mimetype": "text/x-python",
   "name": "python",
   "nbconvert_exporter": "python",
   "pygments_lexer": "ipython3",
   "version": "3.7.7"
  }
 },
 "nbformat": 4,
 "nbformat_minor": 4
}
