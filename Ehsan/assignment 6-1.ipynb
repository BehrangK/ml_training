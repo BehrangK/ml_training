{
 "cells": [
  {
   "cell_type": "code",
   "execution_count": 2,
   "metadata": {},
   "outputs": [],
   "source": [
    "import math\n",
    "import numpy as np\n",
    "from pdb import set_trace as bp\n",
    "import time\n",
    "import matplotlib.pyplot as plt\n",
    "from scipy.optimize import minimize\n",
    "\n",
    "\n",
    "def calc_pi_1(residual = 1E-5):\n",
    "    n = 0\n",
    "    error = 10\n",
    "    calc_pi = 0\n",
    "    while error>residual:\n",
    "        calc_pi = calc_pi+4*((-1)**n)/(2*n + 1)\n",
    "        error = abs(math.pi - calc_pi)\n",
    "        n = n + 1\n",
    "        #bp()\n",
    "    return calc_pi\n",
    "\n",
    "def calc_pi_2(residual = 1E-5):\n",
    "    n = 1\n",
    "    error = 10\n",
    "    calc_pi_sq = 0\n",
    "    while error>residual:\n",
    "        calc_pi_sq = calc_pi_sq+6/n**2\n",
    "        error = abs(math.pi**2 - calc_pi_sq)\n",
    "        n = n + 1\n",
    "        #bp()\n",
    "    return (calc_pi_sq)**0.5    \n",
    "\n",
    "def factorial(x):\n",
    "    if x==0:\n",
    "        result = 1\n",
    "    elif x==1:\n",
    "        result = 1\n",
    "    else:\n",
    "        result = x * factorial(x-1)\n",
    "    return result\n",
    "\n",
    "def calc_e_x_1(x = 1, residual = 1E-15):\n",
    "    n = 0\n",
    "    error = 10\n",
    "    calc_e = 0\n",
    "    while error>residual:\n",
    "        calc_e = calc_e + x**n/factorial(n)\n",
    "        error = abs(math.exp(x) - calc_e)\n",
    "        n = n + 1\n",
    "        #bp()\n",
    "    return calc_e    \n",
    "\n",
    "def e(x,n) : \n",
    "    if (n == 0) : \n",
    "        return 1,1,1\n",
    "    r,p,f = e(x, n - 1) \n",
    "    p = p * x \n",
    "    f = f * n \n",
    "    result = r + p / f  \n",
    "    return (result,p,f) \n",
    "\n",
    "def calc_e_x_2(x=1, n = 100, residual = 1E-15) : \n",
    "    error = 10\n",
    "    i = 1\n",
    "    while error>residual and i < n + 1:\n",
    "        #bp()\n",
    "        result = e(x,i)[0]\n",
    "        error = abs(result - math.exp(x))\n",
    "        i = i + 1\n",
    "    return result\n",
    "        \n",
    "def f(x,a=1):\n",
    "    f = -(a/x)**x\n",
    "    return f\n"
   ]
  },
  {
   "cell_type": "code",
   "execution_count": 3,
   "metadata": {},
   "outputs": [
    {
     "name": "stdout",
     "output_type": "stream",
     "text": [
      "3.1416026534897203\n",
      "3.1415910620412313\n",
      "2.7182818284590455\n",
      "2.7182818284590455\n",
      "0.00000000000000000000 0.00000000000000000000\n"
     ]
    }
   ],
   "source": [
    "print(calc_pi_1())\n",
    "print(calc_pi_2())\n",
    "t0 = time.time()\n",
    "print(calc_e_x_1())\n",
    "t1 = time.time()\n",
    "print(calc_e_x_2()) \n",
    "t2 = time.time()\n",
    "print(\"%.20f %.20f\" % (t1-t0,t2-t1))"
   ]
  },
  {
   "cell_type": "code",
   "execution_count": 4,
   "metadata": {},
   "outputs": [
    {
     "name": "stdout",
     "output_type": "stream",
     "text": [
      "      fun: -1.4446678610025516\n",
      " hess_inv: array([[0.25154587]])\n",
      "      jac: array([-7.49528408e-06])\n",
      "  message: 'Optimization terminated successfully.'\n",
      "     nfev: 21\n",
      "      nit: 5\n",
      "     njev: 7\n",
      "   status: 0\n",
      "  success: True\n",
      "        x: array([0.36787752])\n",
      "0.36787944117144233\n"
     ]
    },
    {
     "data": {
      "image/png": "[encoded data removed]",
      "text/plain": [
       "<Figure size 432x288 with 1 Axes>"
      ]
     },
     "metadata": {
      "needs_background": "light"
     },
     "output_type": "display_data"
    }
   ],
   "source": [
    "x = np.arange(0.000001,5,.0001)\n",
    "y=f(x)\n",
    "plt.plot(x,-y)\n",
    "x0=[0.00001]\n",
    "result = minimize(f,x0)\n",
    "print(result)\n",
    "print(1/math.exp(1))"
   ]
  },
  {
   "cell_type": "code",
   "execution_count": 8,
   "metadata": {},
   "outputs": [
    {
     "data": {
      "text/plain": [
       "1.0447202192208"
      ]
     },
     "execution_count": 8,
     "metadata": {},
     "output_type": "execute_result"
    }
   ],
   "source": []
  },
  {
   "cell_type": "code",
   "execution_count": null,
   "metadata": {},
   "outputs": [],
   "source": []
  },
  {
   "cell_type": "code",
   "execution_count": null,
   "metadata": {},
   "outputs": [],
   "source": []
  },
  {
   "cell_type": "code",
   "execution_count": null,
   "metadata": {},
   "outputs": [],
   "source": []
  },
  {
   "cell_type": "code",
   "execution_count": null,
   "metadata": {},
   "outputs": [],
   "source": []
  },
  {
   "cell_type": "code",
   "execution_count": null,
   "metadata": {},
   "outputs": [],
   "source": []
  },
  {
   "cell_type": "code",
   "execution_count": null,
   "metadata": {},
   "outputs": [],
   "source": []
  },
  {
   "cell_type": "code",
   "execution_count": 7,
   "metadata": {},
   "outputs": [
    {
     "data": {
      "text/plain": [
       "[-10, -9, -8, -7, -6, -5, -4, -3, -2]"
      ]
     },
     "execution_count": 7,
     "metadata": {},
     "output_type": "execute_result"
    }
   ],
   "source": [
    "x"
   ]
  },
  {
   "cell_type": "code",
   "execution_count": null,
   "metadata": {},
   "outputs": [],
   "source": []
  },
  {
   "cell_type": "code",
   "execution_count": null,
   "metadata": {},
   "outputs": [],
   "source": []
  },
  {
   "cell_type": "code",
   "execution_count": null,
   "metadata": {},
   "outputs": [],
   "source": []
  },
  {
   "cell_type": "code",
   "execution_count": null,
   "metadata": {},
   "outputs": [],
   "source": []
  },
  {
   "cell_type": "code",
   "execution_count": null,
   "metadata": {},
   "outputs": [],
   "source": []
  },
  {
   "cell_type": "code",
   "execution_count": null,
   "metadata": {},
   "outputs": [],
   "source": []
  },
  {
   "cell_type": "code",
   "execution_count": null,
   "metadata": {},
   "outputs": [],
   "source": []
  },
  {
   "cell_type": "code",
   "execution_count": null,
   "metadata": {},
   "outputs": [],
   "source": []
  },
  {
   "cell_type": "code",
   "execution_count": null,
   "metadata": {},
   "outputs": [],
   "source": []
  },
  {
   "cell_type": "code",
   "execution_count": null,
   "metadata": {},
   "outputs": [],
   "source": []
  },
  {
   "cell_type": "code",
   "execution_count": null,
   "metadata": {},
   "outputs": [],
   "source": []
  },
  {
   "cell_type": "code",
   "execution_count": null,
   "metadata": {},
   "outputs": [],
   "source": []
  },
  {
   "cell_type": "code",
   "execution_count": null,
   "metadata": {},
   "outputs": [],
   "source": []
  },
  {
   "cell_type": "code",
   "execution_count": null,
   "metadata": {},
   "outputs": [],
   "source": []
  },
  {
   "cell_type": "code",
   "execution_count": null,
   "metadata": {},
   "outputs": [],
   "source": [
    "de"
   ]
  }
 ],
 "metadata": {
  "kernelspec": {
   "display_name": "Python 3",
   "language": "python",
   "name": "python3"
  },
  "language_info": {
   "codemirror_mode": {
    "name": "ipython",
    "version": 3
   },
   "file_extension": ".py",
   "mimetype": "text/x-python",
   "name": "python",
   "nbconvert_exporter": "python",
   "pygments_lexer": "ipython3",
   "version": "3.7.4"
  }
 },
 "nbformat": 4,
 "nbformat_minor": 4
}
