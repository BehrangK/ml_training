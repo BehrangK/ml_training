{
 "cells": [
  {
   "cell_type": "code",
   "execution_count": 26,
   "metadata": {},
   "outputs": [
    {
     "name": "stdout",
     "output_type": "stream",
     "text": [
      "Enter base\n",
      "4\n",
      "Enter exponent\n",
      "-2\n"
     ]
    },
    {
     "data": {
      "text/plain": [
       "0.0625"
      ]
     },
     "execution_count": 26,
     "metadata": {},
     "output_type": "execute_result"
    }
   ],
   "source": [
    "def positive_power(base,exponent):\n",
    "    result = base\n",
    "    for i in range (1,exponent):\n",
    "        result = result * base\n",
    "    return(result)\n",
    "\n",
    "base = float(input('Enter base\\n'))\n",
    "exponent = int(float(input('Enter exponent\\n')))\n",
    "if exponent>0:\n",
    "    result = positive_power(base,exponent)\n",
    "elif exponent<0:\n",
    "    result = positive_power(1/base,-exponent)\n",
    "else:\n",
    "    result = 1\n",
    "result"
   ]
  }
 ],
 "metadata": {
  "kernelspec": {
   "display_name": "Python 3",
   "language": "python",
   "name": "python3"
  },
  "language_info": {
   "codemirror_mode": {
    "name": "ipython",
    "version": 3
   },
   "file_extension": ".py",
   "mimetype": "text/x-python",
   "name": "python",
   "nbconvert_exporter": "python",
   "pygments_lexer": "ipython3",
   "version": "3.7.4"
  }
 },
 "nbformat": 4,
 "nbformat_minor": 4
}
