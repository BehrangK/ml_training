{
 "cells": [
  {
   "cell_type": "code",
   "execution_count": 20,
   "metadata": {},
   "outputs": [
    {
     "name": "stdout",
     "output_type": "stream",
     "text": [
      "Enter list 1\n",
      "12\n",
      "Enter list 2\n",
      "qwer\n"
     ]
    },
    {
     "data": {
      "text/plain": [
       "['1', 'q', '2', 'w', 'e', 'r']"
      ]
     },
     "execution_count": 20,
     "metadata": {},
     "output_type": "execute_result"
    }
   ],
   "source": [
    "list1 = input ('Enter list 1\\n')\n",
    "list2 = input ('Enter list 2\\n')\n",
    "result = []\n",
    "min_length = min(len(list1),len(list2))\n",
    "same_lengths = len(list1)==len(list2)\n",
    "\n",
    "if (len(list1)>len(list2)):\n",
    "    longer_list = list1\n",
    "if (len(list1)<len(list2)):\n",
    "    longer_list = list2\n",
    "    \n",
    "max_length = max(len(list1), len(list2))\n",
    "\n",
    "for i in range(0,min_length):\n",
    "    result.append(list1[i])\n",
    "    result.append(list2[i])\n",
    "if (same_lengths==False):\n",
    "    for i in range (min_length,max_length):\n",
    "        result.append(longer_list[i])\n",
    "result   "
   ]
  }
 ],
 "metadata": {
  "kernelspec": {
   "display_name": "Python 3",
   "language": "python",
   "name": "python3"
  },
  "language_info": {
   "codemirror_mode": {
    "name": "ipython",
    "version": 3
   },
   "file_extension": ".py",
   "mimetype": "text/x-python",
   "name": "python",
   "nbconvert_exporter": "python",
   "pygments_lexer": "ipython3",
   "version": "3.7.4"
  }
 },
 "nbformat": 4,
 "nbformat_minor": 4
}
